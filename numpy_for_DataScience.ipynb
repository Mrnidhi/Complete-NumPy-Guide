{
 "cells": [
  {
   "cell_type": "markdown",
   "metadata": {},
   "source": [
    "# Loading and Exploring Data"
   ]
  },
  {
   "cell_type": "code",
   "execution_count": 1,
   "metadata": {},
   "outputs": [],
   "source": [
    "import numpy as np"
   ]
  },
  {
   "cell_type": "code",
   "execution_count": 2,
   "metadata": {},
   "outputs": [],
   "source": [
    "sales = np.array([\n",
    "    [250, 320, 410, 290],  \n",
    "    [120, 150, 205, 230],  \n",
    "    [315, 290, 285, 320]  \n",
    "])"
   ]
  },
  {
   "cell_type": "code",
   "execution_count": 3,
   "metadata": {},
   "outputs": [
    {
     "data": {
      "text/plain": [
       "(3, 4)"
      ]
     },
     "execution_count": 3,
     "metadata": {},
     "output_type": "execute_result"
    }
   ],
   "source": [
    "sales.shape       # Dimensions (rows, columns)"
   ]
  },
  {
   "cell_type": "code",
   "execution_count": 4,
   "metadata": {},
   "outputs": [
    {
     "data": {
      "text/plain": [
       "2"
      ]
     },
     "execution_count": 4,
     "metadata": {},
     "output_type": "execute_result"
    }
   ],
   "source": [
    "sales.ndim        # Number of dimensions"
   ]
  },
  {
   "cell_type": "code",
   "execution_count": 5,
   "metadata": {},
   "outputs": [
    {
     "data": {
      "text/plain": [
       "12"
      ]
     },
     "execution_count": 5,
     "metadata": {},
     "output_type": "execute_result"
    }
   ],
   "source": [
    "sales.size        # Total number of elements"
   ]
  },
  {
   "cell_type": "code",
   "execution_count": 6,
   "metadata": {},
   "outputs": [
    {
     "data": {
      "text/plain": [
       "dtype('int64')"
      ]
     },
     "execution_count": 6,
     "metadata": {},
     "output_type": "execute_result"
    }
   ],
   "source": [
    "sales.dtype       # Data type"
   ]
  },
  {
   "cell_type": "code",
   "execution_count": 7,
   "metadata": {},
   "outputs": [
    {
     "data": {
      "text/plain": [
       "np.float64(265.4166666666667)"
      ]
     },
     "execution_count": 7,
     "metadata": {},
     "output_type": "execute_result"
    }
   ],
   "source": [
    "np.mean(sales)    # Overall average"
   ]
  },
  {
   "cell_type": "code",
   "execution_count": 8,
   "metadata": {},
   "outputs": [
    {
     "data": {
      "text/plain": [
       "np.int64(120)"
      ]
     },
     "execution_count": 8,
     "metadata": {},
     "output_type": "execute_result"
    }
   ],
   "source": [
    "np.min(sales)     # Minimum value"
   ]
  },
  {
   "cell_type": "code",
   "execution_count": 9,
   "metadata": {},
   "outputs": [
    {
     "data": {
      "text/plain": [
       "np.int64(410)"
      ]
     },
     "execution_count": 9,
     "metadata": {},
     "output_type": "execute_result"
    }
   ],
   "source": [
    "np.max(sales)     # Maximum value"
   ]
  },
  {
   "cell_type": "code",
   "execution_count": 10,
   "metadata": {},
   "outputs": [
    {
     "data": {
      "text/plain": [
       "np.float64(287.5)"
      ]
     },
     "execution_count": 10,
     "metadata": {},
     "output_type": "execute_result"
    }
   ],
   "source": [
    "np.median(sales)  # Middle value"
   ]
  },
  {
   "cell_type": "markdown",
   "metadata": {},
   "source": [
    "# Calculating Statistics by Row/Column"
   ]
  },
  {
   "cell_type": "code",
   "execution_count": 11,
   "metadata": {},
   "outputs": [
    {
     "data": {
      "text/plain": [
       "array([1270,  705, 1210])"
      ]
     },
     "execution_count": 11,
     "metadata": {},
     "output_type": "execute_result"
    }
   ],
   "source": [
    "# Sum for each row (product)\n",
    "product_totals = np.sum(sales, axis=1)\n",
    "product_totals"
   ]
  },
  {
   "cell_type": "code",
   "execution_count": 12,
   "metadata": {},
   "outputs": [
    {
     "data": {
      "text/plain": [
       "array([317.5 , 176.25, 302.5 ])"
      ]
     },
     "execution_count": 12,
     "metadata": {},
     "output_type": "execute_result"
    }
   ],
   "source": [
    "# Average for each row (product)\n",
    "product_means = np.mean(sales, axis=1)\n",
    "product_means"
   ]
  },
  {
   "cell_type": "code",
   "execution_count": 13,
   "metadata": {},
   "outputs": [
    {
     "data": {
      "text/plain": [
       "array([685, 760, 900, 840])"
      ]
     },
     "execution_count": 13,
     "metadata": {},
     "output_type": "execute_result"
    }
   ],
   "source": [
    "# Sum for each column (quarter)\n",
    "quarter_totals = np.sum(sales, axis=0)\n",
    "quarter_totals    "
   ]
  },
  {
   "cell_type": "code",
   "execution_count": 14,
   "metadata": {},
   "outputs": [
    {
     "data": {
      "text/plain": [
       "array([228.33333333, 253.33333333, 300.        , 280.        ])"
      ]
     },
     "execution_count": 14,
     "metadata": {},
     "output_type": "execute_result"
    }
   ],
   "source": [
    "# Average for each column (quarter)\n",
    "quarter_means = np.mean(sales, axis=0)\n",
    "quarter_means     "
   ]
  },
  {
   "cell_type": "code",
   "execution_count": 15,
   "metadata": {},
   "outputs": [
    {
     "data": {
      "text/plain": [
       "np.int64(0)"
      ]
     },
     "execution_count": 15,
     "metadata": {},
     "output_type": "execute_result"
    }
   ],
   "source": [
    "# Index of highest selling product\n",
    "best_product = np.argmax(product_totals)\n",
    "best_product      "
   ]
  },
  {
   "cell_type": "code",
   "execution_count": 16,
   "metadata": {},
   "outputs": [
    {
     "data": {
      "text/plain": [
       "np.int64(2)"
      ]
     },
     "execution_count": 16,
     "metadata": {},
     "output_type": "execute_result"
    }
   ],
   "source": [
    "# Index of highest selling quarter\n",
    "best_quarter = np.argmax(quarter_totals)\n",
    "best_quarter      "
   ]
  },
  {
   "cell_type": "markdown",
   "metadata": {},
   "source": [
    "# Data Filtering and Selection"
   ]
  },
  {
   "cell_type": "code",
   "execution_count": 17,
   "metadata": {},
   "outputs": [
    {
     "data": {
      "text/plain": [
       "array([[False,  True,  True, False],\n",
       "       [False, False, False, False],\n",
       "       [ True, False, False,  True]])"
      ]
     },
     "execution_count": 17,
     "metadata": {},
     "output_type": "execute_result"
    }
   ],
   "source": [
    "# Filter values above a threshold\n",
    "high_sales = sales > 300\n",
    "high_sales"
   ]
  },
  {
   "cell_type": "code",
   "execution_count": 18,
   "metadata": {},
   "outputs": [
    {
     "data": {
      "text/plain": [
       "4"
      ]
     },
     "execution_count": 18,
     "metadata": {},
     "output_type": "execute_result"
    }
   ],
   "source": [
    "# Count high sales\n",
    "np.count_nonzero(high_sales)"
   ]
  },
  {
   "cell_type": "code",
   "execution_count": 19,
   "metadata": {},
   "outputs": [
    {
     "data": {
      "text/plain": [
       "array([320, 410, 315, 320])"
      ]
     },
     "execution_count": 19,
     "metadata": {},
     "output_type": "execute_result"
    }
   ],
   "source": [
    "# Get just the high sales values\n",
    "sales[high_sales]"
   ]
  },
  {
   "cell_type": "code",
   "execution_count": 20,
   "metadata": {},
   "outputs": [
    {
     "data": {
      "text/plain": [
       "array([ True, False,  True])"
      ]
     },
     "execution_count": 20,
     "metadata": {},
     "output_type": "execute_result"
    }
   ],
   "source": [
    "# Find products with at least one high sales quarter\n",
    "products_with_high = np.any(sales > 300, axis=1)\n",
    "products_with_high"
   ]
  },
  {
   "cell_type": "code",
   "execution_count": 21,
   "metadata": {},
   "outputs": [
    {
     "data": {
      "text/plain": [
       "array([False, False,  True,  True])"
      ]
     },
     "execution_count": 21,
     "metadata": {},
     "output_type": "execute_result"
    }
   ],
   "source": [
    "# Find quarters where all products did well\n",
    "good_quarters = np.all(sales > 200, axis=0)\n",
    "good_quarters\n"
   ]
  },
  {
   "cell_type": "markdown",
   "metadata": {},
   "source": [
    "# Data Transformation"
   ]
  },
  {
   "cell_type": "code",
   "execution_count": 22,
   "metadata": {},
   "outputs": [
    {
     "data": {
      "text/plain": [
       "array([[0.25 , 0.32 , 0.41 , 0.29 ],\n",
       "       [0.12 , 0.15 , 0.205, 0.23 ],\n",
       "       [0.315, 0.29 , 0.285, 0.32 ]])"
      ]
     },
     "execution_count": 22,
     "metadata": {},
     "output_type": "execute_result"
    }
   ],
   "source": [
    "# Convert sales to thousands\n",
    "sales_k = sales / 1000\n",
    "sales_k"
   ]
  },
  {
   "cell_type": "code",
   "execution_count": 23,
   "metadata": {},
   "outputs": [
    {
     "data": {
      "text/plain": [
       "array([[ 7.84929356, 10.04709576, 12.87284144,  9.10518053],\n",
       "       [ 3.76766091,  4.70957614,  6.43642072,  7.22135008],\n",
       "       [ 9.89010989,  9.10518053,  8.94819466, 10.04709576]])"
      ]
     },
     "execution_count": 23,
     "metadata": {},
     "output_type": "execute_result"
    }
   ],
   "source": [
    "# Calculate percent of total for each value\n",
    "sales_total = np.sum(sales)\n",
    "pct_of_total = sales / sales_total * 100\n",
    "pct_of_total"
   ]
  },
  {
   "cell_type": "code",
   "execution_count": 24,
   "metadata": {},
   "outputs": [
    {
     "data": {
      "text/plain": [
       "array([[19.68503937, 25.19685039, 32.28346457, 22.83464567],\n",
       "       [17.0212766 , 21.27659574, 29.07801418, 32.62411348],\n",
       "       [26.03305785, 23.96694215, 23.55371901, 26.44628099]])"
      ]
     },
     "execution_count": 24,
     "metadata": {},
     "output_type": "execute_result"
    }
   ],
   "source": [
    "# Calculate percent of product total for each quarter\n",
    "product_totals = np.sum(sales, axis=1, keepdims=True)\n",
    "pct_of_product = sales / product_totals * 100\n",
    "pct_of_product\n"
   ]
  },
  {
   "cell_type": "code",
   "execution_count": 25,
   "metadata": {},
   "outputs": [
    {
     "data": {
      "text/plain": [
       "array([[  70,   90, -120],\n",
       "       [  30,   55,   25],\n",
       "       [ -25,   -5,   35]])"
      ]
     },
     "execution_count": 25,
     "metadata": {},
     "output_type": "execute_result"
    }
   ],
   "source": [
    "# Growth rates between quarters\n",
    "# First calculate quarter-to-quarter change\n",
    "# axis=1 means across columns (quarters)\n",
    "quarter_growth = np.diff(sales, axis=1)\n",
    "quarter_growth"
   ]
  },
  {
   "cell_type": "code",
   "execution_count": 26,
   "metadata": {},
   "outputs": [
    {
     "data": {
      "text/plain": [
       "array([[ 28.        ,  28.125     , -29.26829268],\n",
       "       [ 25.        ,  36.66666667,  12.19512195],\n",
       "       [ -7.93650794,  -1.72413793,  12.28070175]])"
      ]
     },
     "execution_count": 26,
     "metadata": {},
     "output_type": "execute_result"
    }
   ],
   "source": [
    "# Convert to percentage growth\n",
    "quarter_growth_pct = quarter_growth / sales[:, :-1] * 100\n",
    "quarter_growth_pct"
   ]
  },
  {
   "cell_type": "markdown",
   "metadata": {},
   "source": [
    "# Working with Missing Data"
   ]
  },
  {
   "cell_type": "code",
   "execution_count": 27,
   "metadata": {},
   "outputs": [],
   "source": [
    "sales_with_missing = np.array([\n",
    "    [250, 320, np.nan, 290],\n",
    "    [120, np.nan, 205, 230],\n",
    "    [315, 290, 285, np.nan]\n",
    "])"
   ]
  },
  {
   "cell_type": "code",
   "execution_count": 28,
   "metadata": {},
   "outputs": [
    {
     "data": {
      "text/plain": [
       "array([[False, False,  True, False],\n",
       "       [False,  True, False, False],\n",
       "       [False, False, False,  True]])"
      ]
     },
     "execution_count": 28,
     "metadata": {},
     "output_type": "execute_result"
    }
   ],
   "source": [
    "# Check for missing values\n",
    "has_missing = np.isnan(sales_with_missing)\n",
    "has_missing"
   ]
  },
  {
   "cell_type": "code",
   "execution_count": 29,
   "metadata": {},
   "outputs": [
    {
     "data": {
      "text/plain": [
       "3"
      ]
     },
     "execution_count": 29,
     "metadata": {},
     "output_type": "execute_result"
    }
   ],
   "source": [
    "# Count missing values\n",
    "missing_count = np.count_nonzero(np.isnan(sales_with_missing))\n",
    "missing_count"
   ]
  },
  {
   "cell_type": "code",
   "execution_count": 30,
   "metadata": {},
   "outputs": [
    {
     "data": {
      "text/plain": [
       "array([[250.        , 320.        , 286.66666667, 290.        ],\n",
       "       [120.        , 185.        , 205.        , 230.        ],\n",
       "       [315.        , 290.        , 285.        , 296.66666667]])"
      ]
     },
     "execution_count": 30,
     "metadata": {},
     "output_type": "execute_result"
    }
   ],
   "source": [
    "# Fill missing values with mean of each row\n",
    "row_means = np.nanmean(sales_with_missing, axis=1, keepdims=True)\n",
    "filled_by_product = np.where(np.isnan(sales_with_missing), row_means, sales_with_missing)\n",
    "filled_by_product"
   ]
  },
  {
   "cell_type": "code",
   "execution_count": 31,
   "metadata": {},
   "outputs": [
    {
     "data": {
      "text/plain": [
       "array([[250., 320., 245., 290.],\n",
       "       [120., 305., 205., 230.],\n",
       "       [315., 290., 285., 260.]])"
      ]
     },
     "execution_count": 31,
     "metadata": {},
     "output_type": "execute_result"
    }
   ],
   "source": [
    "# Fill missing values with column means\n",
    "col_means = np.nanmean(sales_with_missing, axis=0)\n",
    "filled_by_quarter = np.where(np.isnan(sales_with_missing), col_means, sales_with_missing)\n",
    "filled_by_quarter"
   ]
  },
  {
   "cell_type": "markdown",
   "metadata": {},
   "source": [
    "# Time series analysis"
   ]
  },
  {
   "cell_type": "code",
   "execution_count": 32,
   "metadata": {},
   "outputs": [],
   "source": [
    "days = np.arange(1, 31)\n",
    "daily_sales = np.array([120, 135, 145, 125, 115, 90, 105, \n",
    "                        130, 145, 155, 140, 130, 110, 95, \n",
    "                        125, 140, 150, 160, 140, 120, 100, \n",
    "                        95, 130, 150, 165, 155, 140, 130, 115, 110])"
   ]
  },
  {
   "cell_type": "code",
   "execution_count": 33,
   "metadata": {},
   "outputs": [
    {
     "data": {
      "text/plain": [
       "array([119.28571429, 120.71428571, 122.14285714, 123.57142857,\n",
       "       125.71428571, 127.85714286, 130.71428571, 129.28571429,\n",
       "       128.57142857, 127.85714286, 127.14285714, 130.        ,\n",
       "       131.42857143, 132.85714286, 133.57142857, 129.28571429,\n",
       "       127.85714286, 127.85714286, 128.57142857, 130.71428571,\n",
       "       133.57142857, 137.85714286, 140.71428571, 137.85714286])"
      ]
     },
     "execution_count": 33,
     "metadata": {},
     "output_type": "execute_result"
    }
   ],
   "source": [
    "# Calculate moving average (7-day window)\n",
    "def moving_average(data, window):\n",
    "    weights = np.ones(window) / window\n",
    "    return np.convolve(data, weights, mode='valid')\n",
    "\n",
    "sales_ma7 = moving_average(daily_sales, 7)\n",
    "sales_ma7"
   ]
  },
  {
   "cell_type": "code",
   "execution_count": 34,
   "metadata": {},
   "outputs": [
    {
     "data": {
      "text/plain": [
       "array([False,  True,  True,  True,  True,  True, False, False, False,\n",
       "        True,  True,  True,  True, False, False, False,  True,  True,\n",
       "        True,  True,  True, False, False, False])"
      ]
     },
     "execution_count": 34,
     "metadata": {},
     "output_type": "execute_result"
    }
   ],
   "source": [
    "# Find days with sales above trend\n",
    "above_trend = daily_sales[6:] > sales_ma7\n",
    "above_trend"
   ]
  },
  {
   "cell_type": "code",
   "execution_count": 35,
   "metadata": {},
   "outputs": [
    {
     "data": {
      "text/plain": [
       "array([ 120,  255,  400,  525,  640,  730,  835,  965, 1110, 1265, 1405,\n",
       "       1535, 1645, 1740, 1865, 2005, 2155, 2315, 2455, 2575, 2675, 2770,\n",
       "       2900, 3050, 3215, 3370, 3510, 3640, 3755, 3865])"
      ]
     },
     "execution_count": 35,
     "metadata": {},
     "output_type": "execute_result"
    }
   ],
   "source": [
    "# Cumulative sales\n",
    "cumulative_sales = np.cumsum(daily_sales)\n",
    "cumulative_sales"
   ]
  },
  {
   "cell_type": "code",
   "execution_count": 36,
   "metadata": {},
   "outputs": [
    {
     "data": {
      "text/plain": [
       "array([[120, 135, 145, 125, 115,  90, 105],\n",
       "       [130, 145, 155, 140, 130, 110,  95],\n",
       "       [125, 140, 150, 160, 140, 120, 100],\n",
       "       [ 95, 130, 150, 165, 155, 140, 130]])"
      ]
     },
     "execution_count": 36,
     "metadata": {},
     "output_type": "execute_result"
    }
   ],
   "source": [
    "# Sales by week (reshape to 4 weeks x 7 days, last 2 days ignored)\n",
    "weekly_sales = daily_sales[:28].reshape(4, 7)\n",
    "weekly_sales"
   ]
  },
  {
   "cell_type": "code",
   "execution_count": 37,
   "metadata": {},
   "outputs": [
    {
     "data": {
      "text/plain": [
       "array([835, 905, 935, 965])"
      ]
     },
     "execution_count": 37,
     "metadata": {},
     "output_type": "execute_result"
    }
   ],
   "source": [
    "# Weekly totals\n",
    "weekly_totals = np.sum(weekly_sales, axis=1)\n",
    "weekly_totals"
   ]
  },
  {
   "cell_type": "markdown",
   "metadata": {},
   "source": [
    "# Customer Segmentation with NumPy"
   ]
  },
  {
   "cell_type": "code",
   "execution_count": 38,
   "metadata": {},
   "outputs": [],
   "source": [
    "customers = np.array([\n",
    "    [5, 10, 200],    # Customer 1: 5 days ago, 10 purchases, $200 avg\n",
    "    [20, 3, 120],    # Customer 2\n",
    "    [14, 15, 80],    # Customer 3\n",
    "    [3, 18, 350],    # Customer 4\n",
    "    [9, 5, 190],     # Customer 5\n",
    "    [40, 2, 50],     # Customer 6\n",
    "    [7, 10, 170]     # Customer 7\n",
    "])"
   ]
  },
  {
   "cell_type": "code",
   "execution_count": 39,
   "metadata": {},
   "outputs": [
    {
     "data": {
      "text/plain": [
       "array([[-0.75755306,  0.17837652,  0.37481703],\n",
       "       [ 0.50503537, -1.0702591 , -0.49975604],\n",
       "       [ 0.        ,  1.0702591 , -0.93704257],\n",
       "       [-0.92589819,  1.60538865,  2.01464153],\n",
       "       [-0.42086281, -0.71350607,  0.2654954 ],\n",
       "       [ 2.18848662, -1.24863562, -1.26500747],\n",
       "       [-0.58920794,  0.17837652,  0.04685213]])"
      ]
     },
     "execution_count": 39,
     "metadata": {},
     "output_type": "execute_result"
    }
   ],
   "source": [
    "# Standardize each column (z-score)\n",
    "customers_mean = np.mean(customers, axis=0)\n",
    "customers_std = np.std(customers, axis=0)\n",
    "customers_z = (customers - customers_mean) / customers_std\n",
    "customers_z"
   ]
  },
  {
   "cell_type": "code",
   "execution_count": 40,
   "metadata": {},
   "outputs": [
    {
     "data": {
      "text/plain": [
       "array([ 0.43691554, -0.6916835 ,  0.04440551,  1.51530946, -0.00904929,\n",
       "       -1.56737657,  0.27147886])"
      ]
     },
     "execution_count": 40,
     "metadata": {},
     "output_type": "execute_result"
    }
   ],
   "source": [
    "# Calculate overall customer score (first column reversed since lower recency is better)\n",
    "customer_score = (-customers_z[:, 0] + customers_z[:, 1] + customers_z[:, 2]) / 3\n",
    "customer_score\n"
   ]
  },
  {
   "cell_type": "code",
   "execution_count": 41,
   "metadata": {},
   "outputs": [
    {
     "data": {
      "text/plain": [
       "array([[  3,  18, 350],\n",
       "       [  5,  10, 200],\n",
       "       [  7,  10, 170]])"
      ]
     },
     "execution_count": 41,
     "metadata": {},
     "output_type": "execute_result"
    }
   ],
   "source": [
    "# Find top 3 customers\n",
    "top_indices = np.argsort(customer_score)[-3:][::-1]\n",
    "top_indices\n",
    "customers[top_indices]"
   ]
  }
 ],
 "metadata": {
  "kernelspec": {
   "display_name": "Python 3",
   "language": "python",
   "name": "python3"
  },
  "language_info": {
   "codemirror_mode": {
    "name": "ipython",
    "version": 3
   },
   "file_extension": ".py",
   "mimetype": "text/x-python",
   "name": "python",
   "nbconvert_exporter": "python",
   "pygments_lexer": "ipython3",
   "version": "3.9.6"
  }
 },
 "nbformat": 4,
 "nbformat_minor": 2
}
